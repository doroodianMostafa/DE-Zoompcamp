{
 "cells": [
  {
   "cell_type": "code",
   "execution_count": 3,
   "id": "d62a97d8-a48f-4737-9bc8-bd74ca6e5a36",
   "metadata": {},
   "outputs": [],
   "source": [
    "import pandas as pd\n",
    "\n"
   ]
  },
  {
   "cell_type": "code",
   "execution_count": 5,
   "id": "560e39c0-26a1-48ed-8c9f-f62c59cbb05e",
   "metadata": {
    "scrolled": true
   },
   "outputs": [
    {
     "name": "stdout",
     "output_type": "stream",
     "text": [
      "              open      high       low   close      volume\n",
      "date                                                      \n",
      "2025-02-19  244.66  246.0100  243.1604  244.87  32204215.0\n",
      "2025-02-18  244.15  245.1800  241.8400  244.47  48822491.0\n",
      "2025-02-14  241.25  245.5500  240.9900  244.60  40896227.0\n",
      "2025-02-13  236.91  242.3399  235.5700  241.53  53614054.0\n",
      "2025-02-12  231.20  236.9600  230.6800  236.87  45243292.0\n"
     ]
    }
   ],
   "source": [
    "# Load raw data\n",
    "df = pd.read_csv(\"/Users/mm/vantage/raw_stock_data.csv\", index_col=\"date\")\n",
    "df = df.astype(float)  # Ensure numeric columns\n",
    "print(df.head())"
   ]
  },
  {
   "cell_type": "code",
   "execution_count": 7,
   "id": "b6036fd5-866d-40e3-9be5-77a0da5b8451",
   "metadata": {},
   "outputs": [
    {
     "name": "stdout",
     "output_type": "stream",
     "text": [
      "Volatility calculated!\n"
     ]
    }
   ],
   "source": [
    "# Transform\n",
    "try:\n",
    "    df[\"volatility\"] = (df[\"high\"] - df[\"low\"]) / df[\"close\"]\n",
    "    # Handle missing/null values\n",
    "    df.dropna(inplace=True)\n",
    "    print(\"Volatility calculated!\")\n",
    "except Exception as e:\n",
    "    print(f\"Transformation error: {e}\")\n",
    "    raise"
   ]
  },
  {
   "cell_type": "code",
   "execution_count": 11,
   "id": "f858e61e-bb0a-4c62-978c-cc262b6edaf2",
   "metadata": {},
   "outputs": [
    {
     "name": "stdout",
     "output_type": "stream",
     "text": [
      "Data transformed and saved!\n"
     ]
    }
   ],
   "source": [
    "# Clean up\n",
    "df = df[[\"open\", \"close\", \"volatility\"]]  # Keep relevant columns\n",
    "df.index = pd.to_datetime(df.index)  # Ensure date format\n",
    "df.to_csv(\"/Users/mm/vantage/transformed_stock_data.csv\")\n",
    "print(\"Data transformed and saved!\")"
   ]
  },
  {
   "cell_type": "code",
   "execution_count": 13,
   "id": "86d2e24d-5913-48a4-842d-5b62eec26205",
   "metadata": {},
   "outputs": [
    {
     "name": "stdout",
     "output_type": "stream",
     "text": [
      "              open   close  volatility\n",
      "date                                  \n",
      "2025-02-19  244.66  244.87    0.011637\n",
      "2025-02-18  244.15  244.47    0.013662\n",
      "2025-02-14  241.25  244.60    0.018643\n",
      "2025-02-13  236.91  241.53    0.028029\n",
      "2025-02-12  231.20  236.87    0.026512\n"
     ]
    }
   ],
   "source": [
    "df_transformed = pd.read_csv(\"/Users/mm/vantage/transformed_stock_data.csv\", index_col=\"date\")\n",
    "df_transformed = df.astype(float)  # Ensure numeric columns\n",
    "print(df_transformed.head())"
   ]
  },
  {
   "cell_type": "code",
   "execution_count": 15,
   "id": "0e6139d8-355f-4d6c-949b-e7e56742c6af",
   "metadata": {},
   "outputs": [
    {
     "data": {
      "text/plain": [
       "<sqlite3.Cursor at 0x1159178c0>"
      ]
     },
     "execution_count": 15,
     "metadata": {},
     "output_type": "execute_result"
    }
   ],
   "source": [
    "import sqlite3\n",
    "\n",
    "# Connect to SQLite\n",
    "conn = sqlite3.connect(\"trading_data.db\")\n",
    "cursor = conn.cursor()\n",
    "\n",
    "# Create table\n",
    "cursor.execute(\"\"\"\n",
    "    CREATE TABLE IF NOT EXISTS stock_data (\n",
    "        date TEXT PRIMARY KEY,\n",
    "        open REAL,\n",
    "        close REAL,\n",
    "        volatility REAL\n",
    "    )\n",
    "\"\"\")"
   ]
  },
  {
   "cell_type": "code",
   "execution_count": 17,
   "id": "8691513b-cf83-49a8-830a-c9b450fa045b",
   "metadata": {},
   "outputs": [
    {
     "name": "stdout",
     "output_type": "stream",
     "text": [
      "Data loaded into SQLite!\n"
     ]
    }
   ],
   "source": [
    "# Load data into SQLite\n",
    "df.to_sql(\"stock_data\", conn, if_exists=\"replace\", index=True)\n",
    "conn.commit()\n",
    "print(\"Data loaded into SQLite!\")"
   ]
  },
  {
   "cell_type": "code",
   "execution_count": 19,
   "id": "fbe1d1c0-4bd7-45da-b115-2acd9ed0a005",
   "metadata": {},
   "outputs": [
    {
     "name": "stdout",
     "output_type": "stream",
     "text": [
      "                  date    open   close  volatility\n",
      "0  2025-02-19 00:00:00  244.66  244.87    0.011637\n",
      "1  2025-02-18 00:00:00  244.15  244.47    0.013662\n",
      "2  2025-02-14 00:00:00  241.25  244.60    0.018643\n",
      "3  2025-02-13 00:00:00  236.91  241.53    0.028029\n",
      "4  2025-02-12 00:00:00  231.20  236.87    0.026512\n"
     ]
    }
   ],
   "source": [
    "# Verify\n",
    "result = pd.read_sql(\"SELECT * FROM stock_data LIMIT 5\", conn)\n",
    "print(result)\n",
    "conn.close()"
   ]
  },
  {
   "cell_type": "code",
   "execution_count": null,
   "id": "00d57c56-0f42-4c20-96aa-335a81caf41f",
   "metadata": {},
   "outputs": [],
   "source": []
  }
 ],
 "metadata": {
  "kernelspec": {
   "display_name": "Python 3 (ipykernel)",
   "language": "python",
   "name": "python3"
  },
  "language_info": {
   "codemirror_mode": {
    "name": "ipython",
    "version": 3
   },
   "file_extension": ".py",
   "mimetype": "text/x-python",
   "name": "python",
   "nbconvert_exporter": "python",
   "pygments_lexer": "ipython3",
   "version": "3.12.4"
  }
 },
 "nbformat": 4,
 "nbformat_minor": 5
}
